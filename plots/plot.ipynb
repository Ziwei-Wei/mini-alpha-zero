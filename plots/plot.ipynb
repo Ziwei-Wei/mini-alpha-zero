{
 "cells": [
  {
   "cell_type": "code",
   "execution_count": 314,
   "metadata": {},
   "outputs": [],
   "source": [
    "import pandas as pd\n",
    "import matplotlib.pyplot as plt\n",
    "import numpy as np"
   ]
  },
  {
   "cell_type": "code",
   "execution_count": 315,
   "metadata": {},
   "outputs": [],
   "source": [
    "loss_4 = pd.read_csv(\"loss_4x4.csv\", sep=\",\")\n",
    "loss_5 = pd.read_csv(\"loss_5x5.csv\", sep=\",\")\n",
    "loss_6 = pd.read_csv(\"loss_6x6.csv\", sep=\",\")\n",
    "loss_7 = pd.read_csv(\"loss_7x7.csv\", sep=\",\")\n",
    "loss_8 = pd.read_csv(\"loss_8x8.csv\", sep=\",\")\n",
    "\n",
    "win_rate_4 = pd.read_csv(\"win_rate_4x4.csv\", sep=\",\")\n",
    "win_rate_5 = pd.read_csv(\"win_rate_5x5.csv\", sep=\",\")\n",
    "win_rate_6 = pd.read_csv(\"win_rate_6x6.csv\", sep=\",\")\n",
    "win_rate_7 = pd.read_csv(\"win_rate_7x7.csv\", sep=\",\")\n",
    "win_rate_8 = pd.read_csv(\"win_rate_8x8.csv\", sep=\",\")\n",
    "\n",
    "test = pd.read_csv(\"test_data.csv\", sep=\",\")"
   ]
  },
  {
   "cell_type": "code",
   "execution_count": 3,
   "metadata": {},
   "outputs": [],
   "source": [
    "def plot_test(test):\n",
    "    tag = np.array(test.iloc[:,1].values.tolist())\n",
    "    perf = np.array(test.iloc[:,2].values.tolist())\n",
    "    accuracy = np.array(test.iloc[:,3].values.tolist())\n",
    "    width = 0.25\n",
    "\n",
    "    mcst = [0, 2, 4, 6, 8]\n",
    "    nnet = [1, 3, 5, 7, 9]\n",
    "    \n",
    "    mcst_perf = list(perf[mcst])\n",
    "    nnet_perf = list(perf[nnet])\n",
    "    \n",
    "    mcst_acc = list(accuracy[mcst])\n",
    "    nnet_acc = list(accuracy[nnet])\n",
    "    \n",
    "    mcst_tag = list(tag[mcst])\n",
    "    nnet_tag = list(tag[nnet])\n",
    "    \n",
    "    plt.suptitle(\"performance\")\n",
    "    plt.xlabel('model')\n",
    "    plt.ylabel('node/step')\n",
    "    \n",
    "    colors = {'MCST':'C0', 'NNET':'C1'}         \n",
    "    labels = list(colors.keys())\n",
    "    handles = [plt.Rectangle((0,0),1,1, color=colors[label]) for label in labels]\n",
    "    plt.legend(handles, labels)\n",
    "    \n",
    "    plt.bar(np.arange(5), mcst_perf, width=width)\n",
    "    plt.bar(np.arange(5)+width, nnet_perf, width=width)\n",
    "    plt.xticks(np.arange(5)+width/2,[\"4x4\", \"5x5\", \"6x6\", \"7x7\", \"8x8\"])\n",
    "    axes = plt.gca()\n",
    "    axes.set_ylim([0,500])\n",
    "    plt.savefig(\"performance.png\")\n",
    "    plt.show()\n",
    "    \n",
    "    colors = {'MCST':'C0', 'NNET':'C1'}         \n",
    "    labels = list(colors.keys())\n",
    "    handles = [plt.Rectangle((0,0),1,1, color=colors[label]) for label in labels]\n",
    "    plt.legend(handles, labels)\n",
    "    \n",
    "    \n",
    "    plt.suptitle(\"win rate\")\n",
    "    plt.xlabel('model')\n",
    "    plt.ylabel('win rate')\n",
    "    plt.bar(np.arange(5), mcst_acc, width=width)\n",
    "    plt.bar(np.arange(5)+width, nnet_acc, width=width)\n",
    "    plt.xticks(np.arange(5)+width/2,[\"4x4\", \"5x5\", \"6x6\", \"7x7\", \"8x8\"])\n",
    "    axes = plt.gca()\n",
    "    axes.set_ylim([0,1])\n",
    "    \n",
    "    plt.savefig(\"win_rate.png\")\n",
    "    plt.show()\n",
    "#plot_test(test)"
   ]
  },
  {
   "cell_type": "code",
   "execution_count": 2,
   "metadata": {},
   "outputs": [
    {
     "data": {
      "text/plain": [
       "'\\nwin_rate(win_rate_4,4)\\nwin_rate(win_rate_5,5)\\nwin_rate(win_rate_6,6)\\nwin_rate(win_rate_7,7)\\nwin_rate(win_rate_8,8)\\n'"
      ]
     },
     "execution_count": 2,
     "metadata": {},
     "output_type": "execute_result"
    }
   ],
   "source": [
    "def win_rate(df, n):\n",
    "    plt.plot((df.iloc[:,0]+1).values.tolist(), df.iloc[:,1].values.tolist())\n",
    "    plt.axis([1, 100, 0, 1.1])\n",
    "    plt.ylabel('win rate')\n",
    "    plt.xlabel('iteration')\n",
    "    plt.suptitle(str(n) +\"x\" + str(n) + \" model\")\n",
    "    plt.savefig(str(n) +\"x\" + str(n) + \"_model_win_rate\" + \".png\")\n",
    "    plt.show()\n",
    "'''\n",
    "win_rate(win_rate_4,4)\n",
    "win_rate(win_rate_5,5)\n",
    "win_rate(win_rate_6,6)\n",
    "win_rate(win_rate_7,7)\n",
    "win_rate(win_rate_8,8)\n",
    "'''"
   ]
  },
  {
   "cell_type": "code",
   "execution_count": 1,
   "metadata": {},
   "outputs": [
    {
     "data": {
      "text/plain": [
       "'\\nloss(loss_4,4)\\nloss(loss_5,5)\\nloss(loss_6,6)\\nloss(loss_7,7)\\nloss(loss_8,8)\\n'"
      ]
     },
     "execution_count": 1,
     "metadata": {},
     "output_type": "execute_result"
    }
   ],
   "source": [
    "def loss(df, n):\n",
    "    plt.plot((df.iloc[:,0]+1).values.tolist(), df.iloc[:,1].values.tolist())\n",
    "    plt.axis([1, 100, 0, 4])\n",
    "    plt.ylabel('loss')\n",
    "    plt.xlabel('iteration')\n",
    "    plt.suptitle(str(n) +\"x\" + str(n) + \" model\")\n",
    "    plt.savefig(str(n) +\"x\" + str(n) + \"_model_loss\" + \".png\")\n",
    "    plt.show()\n",
    "'''\n",
    "loss(loss_4,4)\n",
    "loss(loss_5,5)\n",
    "loss(loss_6,6)\n",
    "loss(loss_7,7)\n",
    "loss(loss_8,8)\n",
    "'''"
   ]
  },
  {
   "cell_type": "code",
   "execution_count": null,
   "metadata": {},
   "outputs": [],
   "source": []
  }
 ],
 "metadata": {
  "kernelspec": {
   "display_name": "Python 3",
   "language": "python",
   "name": "python3"
  },
  "language_info": {
   "codemirror_mode": {
    "name": "ipython",
    "version": 3
   },
   "file_extension": ".py",
   "mimetype": "text/x-python",
   "name": "python",
   "nbconvert_exporter": "python",
   "pygments_lexer": "ipython3",
   "version": "3.7.4"
  }
 },
 "nbformat": 4,
 "nbformat_minor": 2
}
